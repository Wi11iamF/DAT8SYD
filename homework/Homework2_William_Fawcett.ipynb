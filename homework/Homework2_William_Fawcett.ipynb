{
 "cells": [
  {
   "cell_type": "markdown",
   "metadata": {
    "collapsed": true
   },
   "source": [
    "#### Machine Learning\n",
    "\n",
    "Describe 3 ways we can select what features to use in \n",
    "\n",
    "\n",
    "\n",
    "\n",
    "\n",
    "\n",
    "\n",
    "\n",
    "\n",
    "\n",
    "Complete the first 3 exercises from chapter 3 of Introduction to Statistical Learning in Python\n",
    "  \n",
    "Question 1:\n",
    "\n",
    "Each of our predictor variable in Table 3.4 (TV, Radio, Newspaper) is given an associated p-value. This value indicates whether a significant relationship exists between it and the target variable, Sales (as measured in thousands of units).\n",
    "\n",
    "The null hypothesis for which each p-value corresponds is that there exists no relationship between the predictor variable and Sales. A p-value < 0.05 is sufficient to reject the null and conclude that, all else equal, the corresponding predictor variable has a significant impact on number of units sold. \n",
    "      \n",
    "Based on Table 3.4 we can conclude that of the 3 predictors within the multiple regression model, TV and Radio advertisement significantly impact the number of units sold (Sales). The amount allocated to newspaper advertisement has no effect. \n",
    "      \n",
    "To offer a meaningful conclusion, the model predicts that, all else held constant, a \\$1000 increase in the budget for TV advertisement will lead to an additional 460 units sold. Similarly, if the company were to increase their radio advertising budget by an additional $1000 (and hold everything else constant), the company can expect an increase of 189 units sold. \n",
    "\n",
    "Question 2:\n",
    "\n",
    "The K-nearest neighbours (KNN) algorithm is used for both classification and regression. In both cases, the number of neighbours (K) is selected by the user. The choice of K influences the fit of the model\n",
    "\n",
    "For classification models: Assume K = 3. The KNN classification model will find the 3 closest points in the training data set to the value whose group membership we are trying to predict.  The model identify the value as belonging to the class in which the majority of the K neighbour observations belong. \n",
    "\n",
    "For Regression Models: The output of a KNN algorithm is an estimate for a continuous variable. The use of KNN in regression is an example of a non-parametric model. Unlike linear regression, this model makes no assumptions about the underlying structure of f(x). \n",
    "Similar to the classification model, K is selected by the user. Again, assuming K=3, the model will determine the 3 closest points to the value in question. The predicted Y value is an average of the known Y values of these points. \n",
    "\n",
    "Question 3:\n",
    "\n",
    "(a) iv. Is correct since the interaction effect between GPA and gender shows that, all else held constant, regardless at all levels of GPA males will earn less than females (males were assigned a value of 0. 0 x GPA for the interaction term will always be zero).\n",
    "\n",
    "(b) The predicted salary of a female with IQ of 110 and G.P.A of 4.0 is \\$137, 100.\n",
    "\n",
    "(c) False. The seize of a beta coefficient does not indicate the amount of evidence that the predictor influences the target. That more relevant value to consider when determining whether the interaction term is present would be the associated p-value. "
   ]
  },
  {
   "cell_type": "code",
   "execution_count": null,
   "metadata": {
    "collapsed": true
   },
   "outputs": [],
   "source": []
  },
  {
   "cell_type": "code",
   "execution_count": null,
   "metadata": {
    "collapsed": true
   },
   "outputs": [],
   "source": []
  }
 ],
 "metadata": {
  "kernelspec": {
   "display_name": "Python 3",
   "language": "python",
   "name": "python3"
  },
  "language_info": {
   "codemirror_mode": {
    "name": "ipython",
    "version": 3
   },
   "file_extension": ".py",
   "mimetype": "text/x-python",
   "name": "python",
   "nbconvert_exporter": "python",
   "pygments_lexer": "ipython3",
   "version": "3.6.0"
  }
 },
 "nbformat": 4,
 "nbformat_minor": 0
}
