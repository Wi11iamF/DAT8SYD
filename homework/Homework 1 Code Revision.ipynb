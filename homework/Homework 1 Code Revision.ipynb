{
 "cells": [
  {
   "cell_type": "markdown",
   "metadata": {},
   "source": [
    "# Data Science Homework 1\n",
    "# Code Review"
   ]
  },
  {
   "cell_type": "markdown",
   "metadata": {},
   "source": [
    "The following code is a revision as set out by homework 1. \n",
    "It reviews basic data types, lists, dictionaries, conditionals and numeric operations."
   ]
  },
  {
   "cell_type": "code",
   "execution_count": 6,
   "metadata": {
    "collapsed": false
   },
   "outputs": [
    {
     "data": {
      "text/plain": [
       "2.5"
      ]
     },
     "execution_count": 6,
     "metadata": {},
     "output_type": "execute_result"
    }
   ],
   "source": [
    "# Basic Data Types #\n",
    "x = 5\n",
    "type(5)\n",
    "type(5.0)\n",
    "type('five')\n",
    "type(True)\n",
    "5 / 2\n",
    "5 / 2.0"
   ]
  },
  {
   "cell_type": "code",
   "execution_count": 33,
   "metadata": {
    "collapsed": false
   },
   "outputs": [
    {
     "data": {
      "text/plain": [
       "'\\nnote that list methods are a part of lists, like append and remove\\nbut sorted is a built in python method that TAKES IN a list\\n'"
      ]
     },
     "execution_count": 33,
     "metadata": {},
     "output_type": "execute_result"
    }
   ],
   "source": [
    "# Lists\n",
    "nums = [5, 5.0, 'five']\n",
    "nums\n",
    "type(nums)\n",
    "len (nums)\n",
    "nums [0]\n",
    "nums [-1]\n",
    "nums [2] = 6\n",
    "nums.append(7) #adds 7 to the end of the list\n",
    "nums.remove(5) #removes 5 from the list and shifts everything down an index\n",
    "nums.append(5)\n",
    "nums.append(\"apple\")\n",
    "nums.remove(\"apple\")\n",
    "sorted(nums)\n",
    "nums\n",
    "sorted(nums, reverse=True) #sorts in descending order\n",
    "sum(nums) # gives the sum of the items within the list\n",
    "\"\"\"\n",
    "note that list methods are a part of lists, like append and remove\n",
    "but sorted is a built in python method that TAKES IN a list\n",
    "\"\"\""
   ]
  },
  {
   "cell_type": "code",
   "execution_count": 35,
   "metadata": {
    "collapsed": false
   },
   "outputs": [],
   "source": [
    "# use a lopp to \"iterate\" over this list\n",
    "days_of_the_week = ['Monday', \"Tuesday\", \"Wednesday\", \"Thursday\", \"Friday\", \"Saturday\", \"Sunday\"]"
   ]
  },
  {
   "cell_type": "code",
   "execution_count": 37,
   "metadata": {
    "collapsed": true
   },
   "outputs": [],
   "source": [
    "# list slicing\n",
    "weekdays = days_of_the_week[0:5] #start from Index 0(first) until Index 5 (not inclusive)"
   ]
  },
  {
   "cell_type": "code",
   "execution_count": 38,
   "metadata": {
    "collapsed": false
   },
   "outputs": [
    {
     "data": {
      "text/plain": [
       "['Monday', 'Tuesday', 'Wednesday', 'Thursday', 'Friday']"
      ]
     },
     "execution_count": 38,
     "metadata": {},
     "output_type": "execute_result"
    }
   ],
   "source": [
    "weekdays"
   ]
  },
  {
   "cell_type": "code",
   "execution_count": 39,
   "metadata": {
    "collapsed": false
   },
   "outputs": [
    {
     "data": {
      "text/plain": [
       "['Saturday', 'Sunday']"
      ]
     },
     "execution_count": 39,
     "metadata": {},
     "output_type": "execute_result"
    }
   ],
   "source": [
    "days_of_the_week[5:]"
   ]
  },
  {
   "cell_type": "code",
   "execution_count": 40,
   "metadata": {
    "collapsed": false
   },
   "outputs": [
    {
     "data": {
      "text/plain": [
       "['Monday', 'Tuesday', 'Wednesday', 'Thursday', 'Friday']"
      ]
     },
     "execution_count": 40,
     "metadata": {},
     "output_type": "execute_result"
    }
   ],
   "source": [
    "days_of_the_week[:5]"
   ]
  },
  {
   "cell_type": "code",
   "execution_count": 42,
   "metadata": {
    "collapsed": false
   },
   "outputs": [
    {
     "data": {
      "text/plain": [
       "['Monday', 'Thursday', 'Sunday']"
      ]
     },
     "execution_count": 42,
     "metadata": {},
     "output_type": "execute_result"
    }
   ],
   "source": [
    "days_of_the_week[0:7:3] #the third element means every second element"
   ]
  },
  {
   "cell_type": "code",
   "execution_count": 44,
   "metadata": {
    "collapsed": false
   },
   "outputs": [
    {
     "data": {
      "text/plain": [
       "range(0, 10)"
      ]
     },
     "execution_count": 44,
     "metadata": {},
     "output_type": "execute_result"
    }
   ],
   "source": [
    "#### Tuples ####\n",
    "\"\"\"\n",
    "Tuples are basically lists that can never be changed. You can think of them as light weight lists.\n",
    "Lists can grow and shrink via append, insert and remove.\n",
    "Sometimes we don't want our lists to be changed. Thats' what tuples are form.\n",
    "If you try to append or remove elements in a tuple, you will get an Traceback error.\n",
    "\n",
    "Technicall, lists are mutable objects and tuples are immutable objects.\n",
    "utable objects can change (think of mutations), and immutable objects can not change.\n",
    "\"\"\"\n",
    "\n",
    "#range\n",
    "range(10)"
   ]
  },
  {
   "cell_type": "code",
   "execution_count": 51,
   "metadata": {
    "collapsed": false
   },
   "outputs": [
    {
     "name": "stdout",
     "output_type": "stream",
     "text": [
      "x is more than 10 !\n",
      "hooray\n"
     ]
    }
   ],
   "source": [
    "#### CONDITIONALS ####\n",
    "# we will use an if else to implement logic\n",
    "x = 25000\n",
    "if x > 10:\n",
    "    print (\"x is more than 10 !\")\n",
    "    print (\"hooray\")\n",
    "elif x > 100:\n",
    "    print (\"x is HUGE\")\n",
    "\n",
    "#as soon as one conditional is satisfied, it stops checking!"
   ]
  },
  {
   "cell_type": "code",
   "execution_count": 55,
   "metadata": {
    "collapsed": false
   },
   "outputs": [
    {
     "name": "stdout",
     "output_type": "stream",
     "text": [
      "water is ice\n"
     ]
    }
   ],
   "source": [
    "temperature = 20\n",
    "if temperature <=32:\n",
    "    print (\"water is ice\")\n",
    "elif temperature > 32 and temperature < 212:\n",
    "    print (\"water is liquid\")\n",
    "else: \n",
    "    print (\"water will boil\")\n",
    "    #implicitly means if temperature >=212"
   ]
  },
  {
   "cell_type": "code",
   "execution_count": 59,
   "metadata": {
    "collapsed": false
   },
   "outputs": [
    {
     "data": {
      "text/plain": [
       "23"
      ]
     },
     "execution_count": 59,
     "metadata": {},
     "output_type": "execute_result"
    }
   ],
   "source": [
    "### Dictionaires ###\n",
    "\"\"\"\n",
    "have a key value structure,\n",
    "like a dictionary! :)\n",
    "dictionary = {\n",
    "    key1: value1,\n",
    "    key2: value2,\n",
    "    ....\n",
    "}\n",
    "\"\"\"\n",
    "sinan = {\n",
    "    \"age\" : 23,\n",
    "    \"location\": \"Baltimore\",\n",
    "    \"gender\": \"Male\",\n",
    "    \"occupation\": \"Professor/Entrepreneur\"\n",
    "}\n",
    "sinan['age']\n"
   ]
  },
  {
   "cell_type": "code",
   "execution_count": 60,
   "metadata": {
    "collapsed": false
   },
   "outputs": [
    {
     "data": {
      "text/plain": [
       "'Baltimore'"
      ]
     },
     "execution_count": 60,
     "metadata": {},
     "output_type": "execute_result"
    }
   ],
   "source": [
    "sinan['location']"
   ]
  },
  {
   "cell_type": "code",
   "execution_count": 63,
   "metadata": {
    "collapsed": false
   },
   "outputs": [],
   "source": [
    "deniz = {\n",
    "    \"age\" : 29,\n",
    "    \"location\": \"Washington DC\",\n",
    "    \"gender\": \"Female\",\n",
    "    \"occupation\": \"Security Analyst\"\n",
    "}\n",
    "\n",
    "people = [sinan, deniz] #is a list of dictionaries"
   ]
  },
  {
   "cell_type": "code",
   "execution_count": 64,
   "metadata": {
    "collapsed": false
   },
   "outputs": [
    {
     "data": {
      "text/plain": [
       "{'age': 23,\n",
       " 'gender': 'Male',\n",
       " 'location': 'Baltimore',\n",
       " 'occupation': 'Professor/Entrepreneur'}"
      ]
     },
     "execution_count": 64,
     "metadata": {},
     "output_type": "execute_result"
    }
   ],
   "source": [
    "people[0] # the dictionary that represents sinan"
   ]
  },
  {
   "cell_type": "code",
   "execution_count": 65,
   "metadata": {
    "collapsed": false
   },
   "outputs": [
    {
     "data": {
      "text/plain": [
       "23"
      ]
     },
     "execution_count": 65,
     "metadata": {},
     "output_type": "execute_result"
    }
   ],
   "source": [
    "people[0]['age']"
   ]
  },
  {
   "cell_type": "code",
   "execution_count": 71,
   "metadata": {
    "collapsed": false
   },
   "outputs": [
    {
     "name": "stdout",
     "output_type": "stream",
     "text": [
      "the day is Monday\n",
      "the day is Tuesday\n",
      "the day is Wednesday\n",
      "the day is Thursday\n",
      "the day is Friday\n",
      "the day is Saturday\n",
      "the day is Sunday\n"
     ]
    }
   ],
   "source": [
    "\"\"\"\n",
    "for loops are a way of 'iterating' over an item, like a list!\n",
    "but also dictionaries!\"\"\"\n",
    "# iterating over a list\n",
    "for day in days_of_the_week: #the \"day\" variable can really be called anything\n",
    "    print (\"the day is \" + day)"
   ]
  },
  {
   "cell_type": "code",
   "execution_count": 74,
   "metadata": {
    "collapsed": false
   },
   "outputs": [
    {
     "name": "stdout",
     "output_type": "stream",
     "text": [
      "<class 'dict'>\n",
      "<class 'dict'>\n"
     ]
    }
   ],
   "source": [
    "for person in people:\n",
    "    print (type(person))\n",
    "    "
   ]
  },
  {
   "cell_type": "code",
   "execution_count": 81,
   "metadata": {
    "collapsed": false
   },
   "outputs": [
    {
     "name": "stdout",
     "output_type": "stream",
     "text": [
      "29 and lives in Washington DC\n"
     ]
    }
   ],
   "source": [
    "print  (str(deniz ['age']) + \" and lives in \"+ person['location'])"
   ]
  },
  {
   "cell_type": "code",
   "execution_count": 82,
   "metadata": {
    "collapsed": false
   },
   "outputs": [
    {
     "data": {
      "text/plain": [
       "dict_items([('age', 23), ('location', 'Baltimore'), ('gender', 'Male'), ('occupation', 'Professor/Entrepreneur')])"
      ]
     },
     "execution_count": 82,
     "metadata": {},
     "output_type": "execute_result"
    }
   ],
   "source": [
    "sinan.items() #produces a list"
   ]
  },
  {
   "cell_type": "code",
   "execution_count": 86,
   "metadata": {
    "collapsed": false
   },
   "outputs": [
    {
     "ename": "NameError",
     "evalue": "name 'element' is not defined",
     "output_type": "error",
     "traceback": [
      "\u001b[0;31m---------------------------------------------------------------------------\u001b[0m",
      "\u001b[0;31mNameError\u001b[0m                                 Traceback (most recent call last)",
      "\u001b[0;32m<ipython-input-86-19db0c5aa251>\u001b[0m in \u001b[0;36m<module>\u001b[0;34m()\u001b[0m\n\u001b[1;32m      1\u001b[0m \u001b[0;32mfor\u001b[0m \u001b[0melememnt\u001b[0m \u001b[0;32min\u001b[0m \u001b[0msinan\u001b[0m\u001b[0;34m.\u001b[0m\u001b[0mitems\u001b[0m\u001b[0;34m(\u001b[0m\u001b[0;34m)\u001b[0m\u001b[0;34m:\u001b[0m\u001b[0;34m\u001b[0m\u001b[0m\n\u001b[0;32m----> 2\u001b[0;31m     \u001b[0mprint\u001b[0m \u001b[0;34m(\u001b[0m\u001b[0melement\u001b[0m\u001b[0;34m[\u001b[0m\u001b[0;36m0\u001b[0m\u001b[0;34m]\u001b[0m\u001b[0;34m)\u001b[0m\u001b[0;34m\u001b[0m\u001b[0m\n\u001b[0m",
      "\u001b[0;31mNameError\u001b[0m: name 'element' is not defined"
     ]
    }
   ],
   "source": [
    "for elememnt in sinan.items():\n",
    "    print (element[0])"
   ]
  },
  {
   "cell_type": "code",
   "execution_count": 88,
   "metadata": {
    "collapsed": false
   },
   "outputs": [
    {
     "name": "stdout",
     "output_type": "stream",
     "text": [
      "23\n",
      "Baltimore\n",
      "Male\n",
      "Professor/Entrepreneur\n"
     ]
    }
   ],
   "source": [
    "for first, second in sinan.items():\n",
    "    print (second) #prints the second item in each key/value relationship"
   ]
  },
  {
   "cell_type": "code",
   "execution_count": 89,
   "metadata": {
    "collapsed": false
   },
   "outputs": [
    {
     "name": "stdout",
     "output_type": "stream",
     "text": [
      "Monday\n",
      "Friday\n",
      "Sunday\n"
     ]
    }
   ],
   "source": [
    "# Let's filter out some days based on an if!\n",
    "for day in days_of_the_week:\n",
    "    if len(day) <=6:\n",
    "        print (day)"
   ]
  },
  {
   "cell_type": "code",
   "execution_count": 90,
   "metadata": {
    "collapsed": true
   },
   "outputs": [],
   "source": [
    "### LIST COMPREHENSIONS ###\n",
    "import math"
   ]
  },
  {
   "cell_type": "code",
   "execution_count": 91,
   "metadata": {
    "collapsed": true
   },
   "outputs": [],
   "source": [
    "flubber = [2, 5, 7, 4, 2, 5]"
   ]
  },
  {
   "cell_type": "code",
   "execution_count": 92,
   "metadata": {
    "collapsed": false
   },
   "outputs": [
    {
     "data": {
      "text/plain": [
       "6"
      ]
     },
     "execution_count": 92,
     "metadata": {},
     "output_type": "execute_result"
    }
   ],
   "source": [
    "len(flubber)"
   ]
  },
  {
   "cell_type": "code",
   "execution_count": 94,
   "metadata": {
    "collapsed": false
   },
   "outputs": [
    {
     "data": {
      "text/plain": [
       "[4, 25, 49, 16, 4, 25]"
      ]
     },
     "execution_count": 94,
     "metadata": {},
     "output_type": "execute_result"
    }
   ],
   "source": [
    "[n**2 for n in flubber] #squares each value in the list"
   ]
  },
  {
   "cell_type": "code",
   "execution_count": 98,
   "metadata": {
    "collapsed": false
   },
   "outputs": [
    {
     "data": {
      "text/plain": [
       "[1.0, 2.5, 3.5, 2.0, 1.0, 2.5]"
      ]
     },
     "execution_count": 98,
     "metadata": {},
     "output_type": "execute_result"
    }
   ],
   "source": [
    "[q / 2.0 for q in flubber] #halves each value"
   ]
  },
  {
   "cell_type": "code",
   "execution_count": 99,
   "metadata": {
    "collapsed": false
   },
   "outputs": [
    {
     "data": {
      "text/plain": [
       "[1.4142135623730951,\n",
       " 2.23606797749979,\n",
       " 2.6457513110645907,\n",
       " 2.0,\n",
       " 1.4142135623730951,\n",
       " 2.23606797749979]"
      ]
     },
     "execution_count": 99,
     "metadata": {},
     "output_type": "execute_result"
    }
   ],
   "source": [
    "[math.sqrt(r) for r in flubber]"
   ]
  },
  {
   "cell_type": "code",
   "execution_count": 100,
   "metadata": {
    "collapsed": false
   },
   "outputs": [
    {
     "data": {
      "text/plain": [
       "\"\\nnote that I used a different variable name for each one because\\nit doesn't matter!\\n\""
      ]
     },
     "execution_count": 100,
     "metadata": {},
     "output_type": "execute_result"
    }
   ],
   "source": [
    "\"\"\"\n",
    "note that I used a different variable name for each one because\n",
    "it doesn't matter!\n",
    "\"\"\""
   ]
  },
  {
   "cell_type": "code",
   "execution_count": 101,
   "metadata": {
    "collapsed": false
   },
   "outputs": [
    {
     "name": "stdout",
     "output_type": "stream",
     "text": [
      "gave you five\n",
      "I'm going to give you five\n"
     ]
    },
    {
     "data": {
      "text/plain": [
       "5"
      ]
     },
     "execution_count": 101,
     "metadata": {},
     "output_type": "execute_result"
    }
   ],
   "source": [
    "#### FUNCTIONS ####\n",
    "def give_me_five(): #function defintion ends with colon\n",
    "    print (\"I'm going to give you five\")\n",
    "    return 5 #indentation required for function body\n",
    "print (\"gave you five\")\n",
    "give_me_five() # prints the return value"
   ]
  },
  {
   "cell_type": "code",
   "execution_count": 102,
   "metadata": {
    "collapsed": false
   },
   "outputs": [
    {
     "name": "stdout",
     "output_type": "stream",
     "text": [
      "I'm going to give you five\n"
     ]
    }
   ],
   "source": [
    "a_new_variable = give_me_five() #assigns the return value to a variable, doesn't print it"
   ]
  },
  {
   "cell_type": "code",
   "execution_count": 105,
   "metadata": {
    "collapsed": false
   },
   "outputs": [],
   "source": [
    "def calc(x=1, y=2, op = \"add\"): #three arguments (without any defaults)\n",
    "    if op == 'add':\n",
    "        return x + y\n",
    "    elif op == 'subtract':\n",
    "        return x - y\n",
    "    elif op == 'multiply':\n",
    "        return x * y\n",
    "    else: \n",
    "        print ('valid operations: add, subtract, multiply')\n",
    "    "
   ]
  },
  {
   "cell_type": "code",
   "execution_count": 106,
   "metadata": {
    "collapsed": false
   },
   "outputs": [
    {
     "data": {
      "text/plain": [
       "8"
      ]
     },
     "execution_count": 106,
     "metadata": {},
     "output_type": "execute_result"
    }
   ],
   "source": [
    "calc (5, 3, 'add')"
   ]
  },
  {
   "cell_type": "code",
   "execution_count": 107,
   "metadata": {
    "collapsed": false
   },
   "outputs": [
    {
     "data": {
      "text/plain": [
       "2"
      ]
     },
     "execution_count": 107,
     "metadata": {},
     "output_type": "execute_result"
    }
   ],
   "source": [
    "calc (5, 3, 'subtract')"
   ]
  },
  {
   "cell_type": "code",
   "execution_count": 108,
   "metadata": {
    "collapsed": false
   },
   "outputs": [
    {
     "data": {
      "text/plain": [
       "15"
      ]
     },
     "execution_count": 108,
     "metadata": {},
     "output_type": "execute_result"
    }
   ],
   "source": [
    "calc (5, 3, 'multiply')"
   ]
  },
  {
   "cell_type": "code",
   "execution_count": 109,
   "metadata": {
    "collapsed": false
   },
   "outputs": [
    {
     "data": {
      "text/plain": [
       "[1, 2, 3, 4]"
      ]
     },
     "execution_count": 109,
     "metadata": {},
     "output_type": "execute_result"
    }
   ],
   "source": [
    "calc ([1,2], [3,4], 'add')"
   ]
  },
  {
   "cell_type": "code",
   "execution_count": 110,
   "metadata": {
    "collapsed": false
   },
   "outputs": [
    {
     "data": {
      "text/plain": [
       "3"
      ]
     },
     "execution_count": 110,
     "metadata": {},
     "output_type": "execute_result"
    }
   ],
   "source": [
    "calc() #defaults everything, x=1 y=2 op='add'"
   ]
  },
  {
   "cell_type": "code",
   "execution_count": 111,
   "metadata": {
    "collapsed": true
   },
   "outputs": [],
   "source": [
    "point_1 = (1, 2, 2) #tuples have paranteses as opposed to square brackets\n",
    "point_2 = (3, 4, 5)"
   ]
  },
  {
   "cell_type": "code",
   "execution_count": 112,
   "metadata": {
    "collapsed": true
   },
   "outputs": [],
   "source": [
    "pairs = zip(point_1, point_2)"
   ]
  },
  {
   "cell_type": "code",
   "execution_count": 119,
   "metadata": {
    "collapsed": false
   },
   "outputs": [
    {
     "name": "stdout",
     "output_type": "stream",
     "text": [
      "(1, 2, 2)\n"
     ]
    }
   ],
   "source": [
    "print (point_1)\n",
    "        "
   ]
  },
  {
   "cell_type": "code",
   "execution_count": 120,
   "metadata": {
    "collapsed": false
   },
   "outputs": [
    {
     "ename": "AttributeError",
     "evalue": "'tuple' object has no attribute 'appened'",
     "output_type": "error",
     "traceback": [
      "\u001b[0;31m---------------------------------------------------------------------------\u001b[0m",
      "\u001b[0;31mAttributeError\u001b[0m                            Traceback (most recent call last)",
      "\u001b[0;32m<ipython-input-120-63880ced867b>\u001b[0m in \u001b[0;36m<module>\u001b[0;34m()\u001b[0m\n\u001b[0;32m----> 1\u001b[0;31m \u001b[0mpoint_1\u001b[0m\u001b[0;34m.\u001b[0m\u001b[0mappened\u001b[0m\u001b[0;34m(\u001b[0m\u001b[0;36m7\u001b[0m\u001b[0;34m)\u001b[0m\u001b[0;34m\u001b[0m\u001b[0m\n\u001b[0m",
      "\u001b[0;31mAttributeError\u001b[0m: 'tuple' object has no attribute 'appened'"
     ]
    }
   ],
   "source": [
    "point_1.appened(7)"
   ]
  },
  {
   "cell_type": "code",
   "execution_count": 121,
   "metadata": {
    "collapsed": true
   },
   "outputs": [],
   "source": [
    "zip?"
   ]
  },
  {
   "cell_type": "code",
   "execution_count": 122,
   "metadata": {
    "collapsed": false
   },
   "outputs": [
    {
     "name": "stdout",
     "output_type": "stream",
     "text": [
      "(2, 5)\n"
     ]
    }
   ],
   "source": [
    "print (x)"
   ]
  },
  {
   "cell_type": "code",
   "execution_count": 123,
   "metadata": {
    "collapsed": false
   },
   "outputs": [
    {
     "name": "stdout",
     "output_type": "stream",
     "text": [
      "2\n"
     ]
    }
   ],
   "source": [
    "print (x[0])"
   ]
  },
  {
   "cell_type": "code",
   "execution_count": 124,
   "metadata": {
    "collapsed": false
   },
   "outputs": [
    {
     "name": "stdout",
     "output_type": "stream",
     "text": [
      "5\n"
     ]
    }
   ],
   "source": [
    "print (x[1])"
   ]
  },
  {
   "cell_type": "code",
   "execution_count": 125,
   "metadata": {
    "collapsed": false
   },
   "outputs": [
    {
     "data": {
      "text/plain": [
       "[]"
      ]
     },
     "execution_count": 125,
     "metadata": {},
     "output_type": "execute_result"
    }
   ],
   "source": [
    "[x[0] for x in pairs]"
   ]
  },
  {
   "cell_type": "code",
   "execution_count": null,
   "metadata": {
    "collapsed": true
   },
   "outputs": [],
   "source": []
  }
 ],
 "metadata": {
  "kernelspec": {
   "display_name": "Python 3",
   "language": "python",
   "name": "python3"
  },
  "language_info": {
   "codemirror_mode": {
    "name": "ipython",
    "version": 3
   },
   "file_extension": ".py",
   "mimetype": "text/x-python",
   "name": "python",
   "nbconvert_exporter": "python",
   "pygments_lexer": "ipython3",
   "version": "3.6.0"
  }
 },
 "nbformat": 4,
 "nbformat_minor": 2
}
